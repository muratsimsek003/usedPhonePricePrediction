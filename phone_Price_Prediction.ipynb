{
  "cells": [
    {
      "cell_type": "markdown",
      "metadata": {
        "id": "I1oC_9nG4Q5l"
      },
      "source": [
        "\n",
        "# Veri Kümesi Hakkında\n",
        "\n",
        "## İÇERİK\n",
        "Kullanılmış ve yenilenmiş cihaz pazarı, hem tüketicilere hem de satın alırken paradan tasarruf etmek isteyen işletmelere uygun maliyetli alternatifler sağladığı için son on yılda önemli ölçüde büyüdü. Cihazların ömrünün ikinci el ticareti yoluyla en üst düzeye çıkarılması, çevresel etkilerini de azaltır ve geri dönüşüme ve atığın azaltılmasına yardımcı olur. Yenilenmiş / kullanılmış cihazların normalleştirilmiş kullanılmış ve yeni fiyatlandırma verilerinin örnek bir veri kümesini burada bulabilirsiniz.\n",
        "\n",
        "## AMAÇ\n",
        "Amaç, Keşif Veri Analitiği yapmak ve Lineer Regresyon uygulayarak bu tür cihazların fiyatlandırılmasına yardımcı olabilecek bir model oluşturmaktır.\n",
        "\n",
        "## Değişkenler\n",
        "__device_brand__: Üretim markasının adı\n",
        "__os__: Cihazın çalıştığı işletim sistemi\n",
        "__screen_size__: Ekranın cm cinsinden boyutu\n",
        "__4g__: 4G'nin mevcut olup olmadığı\n",
        "__5g__: 5G'nin mevcut olup olmadığı\n",
        "__front_camera_mp__: Arka kameranın megapiksel cinsinden çözünürlüğü\n",
        "__back_camera_mp__: Ön kameranın megapiksel cinsinden çözünürlüğü\n",
        "__internal_memory__: GB cinsinden dahili bellek (ROM) miktarı\n",
        "__ram__: GB cinsinden RAM miktarı\n",
        "__battery__: Cihaz pilinin mAh cinsinden enerji kapasitesi\n",
        "__weight__: Cihazın gram cinsinden ağırlığı\n",
        "__release_year__: Cihaz modelinin piyasaya sürüldüğü yıl\n",
        "__days_used__: Kullanılmış/yenilenmiş cihazın kullanıldığı gün sayısı\n",
        "__normalized_new_price__: Aynı modelden yeni bir cihazın normalleştirilmiş fiyatı\n",
        "__normalized_used_price (TARGET)__: Kullanılmış/yenilenmiş cihazın normalleştirilmiş fiyatı"
      ]
    },
    {
      "cell_type": "markdown",
      "source": [
        "## Kaggle Dataset URL\n",
        "https://www.kaggle.com/datasets/ahsan81/used-handheld-device-data"
      ],
      "metadata": {
        "id": "EAGo600Cx6iC"
      }
    },
    {
      "cell_type": "code",
      "source": [
        "from google.colab import drive\n",
        "drive.mount('/content/drive')"
      ],
      "metadata": {
        "colab": {
          "base_uri": "https://localhost:8080/"
        },
        "id": "bCyphtiZ4Twz",
        "outputId": "b77b6904-ac5d-4112-b7d2-49fff55a93f5"
      },
      "execution_count": null,
      "outputs": [
        {
          "output_type": "stream",
          "name": "stdout",
          "text": [
            "Mounted at /content/drive\n"
          ]
        }
      ]
    },
    {
      "cell_type": "markdown",
      "metadata": {
        "id": "FTTSZfBP4Q5r"
      },
      "source": [
        "# Kütüphanelerin Yüklenmesi"
      ]
    },
    {
      "cell_type": "code",
      "execution_count": null,
      "metadata": {
        "id": "Z_rHzNXx4Q5s"
      },
      "outputs": [],
      "source": [
        "import pandas as pd\n",
        "import numpy as np\n",
        "import matplotlib.pyplot as plt\n",
        "%matplotlib inline\n",
        "import seaborn as sns\n",
        "import warnings\n",
        "warnings.filterwarnings('ignore')\n",
        "from scipy.stats import norm, boxcox\n",
        "from scipy import stats\n",
        "from collections import Counter\n",
        "from sklearn.model_selection import train_test_split, cross_val_score, GridSearchCV\n",
        "from sklearn.linear_model import LinearRegression, Lasso, Ridge\n",
        "from sklearn.tree import DecisionTreeRegressor\n",
        "from sklearn.neighbors import KNeighborsRegressor\n",
        "from sklearn.ensemble import RandomForestRegressor\n",
        "from sklearn.svm import SVR\n",
        "from sklearn.preprocessing import StandardScaler\n",
        "from sklearn.metrics import r2_score, mean_absolute_error, mean_squared_error\n",
        "import statsmodels.api as sm\n",
        "import pickle as pk"
      ]
    },
    {
      "cell_type": "markdown",
      "metadata": {
        "id": "NCS74Rv94Q5t"
      },
      "source": [
        "# Verisetinin okunması"
      ]
    },
    {
      "cell_type": "code",
      "execution_count": null,
      "metadata": {
        "id": "-guEAxo14Q5u"
      },
      "outputs": [],
      "source": [
        "data = pd.read_csv('/content/drive/MyDrive/machine_learning_projeleri/used_device_data.csv')"
      ]
    },
    {
      "cell_type": "code",
      "execution_count": null,
      "metadata": {
        "colab": {
          "base_uri": "https://localhost:8080/",
          "height": 206
        },
        "id": "vNxlSat04Q5v",
        "outputId": "2034eb51-5a00-4cd2-a9ef-426ef1e0f72f"
      },
      "outputs": [
        {
          "output_type": "execute_result",
          "data": {
            "text/plain": [
              "  device_brand       os  screen_size   4g   5g  rear_camera_mp  \\\n",
              "0        Honor  Android        14.50  yes   no            13.0   \n",
              "1        Honor  Android        17.30  yes  yes            13.0   \n",
              "2        Honor  Android        16.69  yes  yes            13.0   \n",
              "3        Honor  Android        25.50  yes  yes            13.0   \n",
              "4        Honor  Android        15.32  yes   no            13.0   \n",
              "\n",
              "   front_camera_mp  internal_memory  ram  battery  weight  release_year  \\\n",
              "0              5.0             64.0  3.0   3020.0   146.0          2020   \n",
              "1             16.0            128.0  8.0   4300.0   213.0          2020   \n",
              "2              8.0            128.0  8.0   4200.0   213.0          2020   \n",
              "3              8.0             64.0  6.0   7250.0   480.0          2020   \n",
              "4              8.0             64.0  3.0   5000.0   185.0          2020   \n",
              "\n",
              "   days_used  normalized_used_price  normalized_new_price  \n",
              "0        127               4.307572              4.715100  \n",
              "1        325               5.162097              5.519018  \n",
              "2        162               5.111084              5.884631  \n",
              "3        345               5.135387              5.630961  \n",
              "4        293               4.389995              4.947837  "
            ],
            "text/html": [
              "\n",
              "  <div id=\"df-85c4dce2-97d9-4158-bf9a-af61fbea966c\">\n",
              "    <div class=\"colab-df-container\">\n",
              "      <div>\n",
              "<style scoped>\n",
              "    .dataframe tbody tr th:only-of-type {\n",
              "        vertical-align: middle;\n",
              "    }\n",
              "\n",
              "    .dataframe tbody tr th {\n",
              "        vertical-align: top;\n",
              "    }\n",
              "\n",
              "    .dataframe thead th {\n",
              "        text-align: right;\n",
              "    }\n",
              "</style>\n",
              "<table border=\"1\" class=\"dataframe\">\n",
              "  <thead>\n",
              "    <tr style=\"text-align: right;\">\n",
              "      <th></th>\n",
              "      <th>device_brand</th>\n",
              "      <th>os</th>\n",
              "      <th>screen_size</th>\n",
              "      <th>4g</th>\n",
              "      <th>5g</th>\n",
              "      <th>rear_camera_mp</th>\n",
              "      <th>front_camera_mp</th>\n",
              "      <th>internal_memory</th>\n",
              "      <th>ram</th>\n",
              "      <th>battery</th>\n",
              "      <th>weight</th>\n",
              "      <th>release_year</th>\n",
              "      <th>days_used</th>\n",
              "      <th>normalized_used_price</th>\n",
              "      <th>normalized_new_price</th>\n",
              "    </tr>\n",
              "  </thead>\n",
              "  <tbody>\n",
              "    <tr>\n",
              "      <th>0</th>\n",
              "      <td>Honor</td>\n",
              "      <td>Android</td>\n",
              "      <td>14.50</td>\n",
              "      <td>yes</td>\n",
              "      <td>no</td>\n",
              "      <td>13.0</td>\n",
              "      <td>5.0</td>\n",
              "      <td>64.0</td>\n",
              "      <td>3.0</td>\n",
              "      <td>3020.0</td>\n",
              "      <td>146.0</td>\n",
              "      <td>2020</td>\n",
              "      <td>127</td>\n",
              "      <td>4.307572</td>\n",
              "      <td>4.715100</td>\n",
              "    </tr>\n",
              "    <tr>\n",
              "      <th>1</th>\n",
              "      <td>Honor</td>\n",
              "      <td>Android</td>\n",
              "      <td>17.30</td>\n",
              "      <td>yes</td>\n",
              "      <td>yes</td>\n",
              "      <td>13.0</td>\n",
              "      <td>16.0</td>\n",
              "      <td>128.0</td>\n",
              "      <td>8.0</td>\n",
              "      <td>4300.0</td>\n",
              "      <td>213.0</td>\n",
              "      <td>2020</td>\n",
              "      <td>325</td>\n",
              "      <td>5.162097</td>\n",
              "      <td>5.519018</td>\n",
              "    </tr>\n",
              "    <tr>\n",
              "      <th>2</th>\n",
              "      <td>Honor</td>\n",
              "      <td>Android</td>\n",
              "      <td>16.69</td>\n",
              "      <td>yes</td>\n",
              "      <td>yes</td>\n",
              "      <td>13.0</td>\n",
              "      <td>8.0</td>\n",
              "      <td>128.0</td>\n",
              "      <td>8.0</td>\n",
              "      <td>4200.0</td>\n",
              "      <td>213.0</td>\n",
              "      <td>2020</td>\n",
              "      <td>162</td>\n",
              "      <td>5.111084</td>\n",
              "      <td>5.884631</td>\n",
              "    </tr>\n",
              "    <tr>\n",
              "      <th>3</th>\n",
              "      <td>Honor</td>\n",
              "      <td>Android</td>\n",
              "      <td>25.50</td>\n",
              "      <td>yes</td>\n",
              "      <td>yes</td>\n",
              "      <td>13.0</td>\n",
              "      <td>8.0</td>\n",
              "      <td>64.0</td>\n",
              "      <td>6.0</td>\n",
              "      <td>7250.0</td>\n",
              "      <td>480.0</td>\n",
              "      <td>2020</td>\n",
              "      <td>345</td>\n",
              "      <td>5.135387</td>\n",
              "      <td>5.630961</td>\n",
              "    </tr>\n",
              "    <tr>\n",
              "      <th>4</th>\n",
              "      <td>Honor</td>\n",
              "      <td>Android</td>\n",
              "      <td>15.32</td>\n",
              "      <td>yes</td>\n",
              "      <td>no</td>\n",
              "      <td>13.0</td>\n",
              "      <td>8.0</td>\n",
              "      <td>64.0</td>\n",
              "      <td>3.0</td>\n",
              "      <td>5000.0</td>\n",
              "      <td>185.0</td>\n",
              "      <td>2020</td>\n",
              "      <td>293</td>\n",
              "      <td>4.389995</td>\n",
              "      <td>4.947837</td>\n",
              "    </tr>\n",
              "  </tbody>\n",
              "</table>\n",
              "</div>\n",
              "      <button class=\"colab-df-convert\" onclick=\"convertToInteractive('df-85c4dce2-97d9-4158-bf9a-af61fbea966c')\"\n",
              "              title=\"Convert this dataframe to an interactive table.\"\n",
              "              style=\"display:none;\">\n",
              "        \n",
              "  <svg xmlns=\"http://www.w3.org/2000/svg\" height=\"24px\"viewBox=\"0 0 24 24\"\n",
              "       width=\"24px\">\n",
              "    <path d=\"M0 0h24v24H0V0z\" fill=\"none\"/>\n",
              "    <path d=\"M18.56 5.44l.94 2.06.94-2.06 2.06-.94-2.06-.94-.94-2.06-.94 2.06-2.06.94zm-11 1L8.5 8.5l.94-2.06 2.06-.94-2.06-.94L8.5 2.5l-.94 2.06-2.06.94zm10 10l.94 2.06.94-2.06 2.06-.94-2.06-.94-.94-2.06-.94 2.06-2.06.94z\"/><path d=\"M17.41 7.96l-1.37-1.37c-.4-.4-.92-.59-1.43-.59-.52 0-1.04.2-1.43.59L10.3 9.45l-7.72 7.72c-.78.78-.78 2.05 0 2.83L4 21.41c.39.39.9.59 1.41.59.51 0 1.02-.2 1.41-.59l7.78-7.78 2.81-2.81c.8-.78.8-2.07 0-2.86zM5.41 20L4 18.59l7.72-7.72 1.47 1.35L5.41 20z\"/>\n",
              "  </svg>\n",
              "      </button>\n",
              "      \n",
              "  <style>\n",
              "    .colab-df-container {\n",
              "      display:flex;\n",
              "      flex-wrap:wrap;\n",
              "      gap: 12px;\n",
              "    }\n",
              "\n",
              "    .colab-df-convert {\n",
              "      background-color: #E8F0FE;\n",
              "      border: none;\n",
              "      border-radius: 50%;\n",
              "      cursor: pointer;\n",
              "      display: none;\n",
              "      fill: #1967D2;\n",
              "      height: 32px;\n",
              "      padding: 0 0 0 0;\n",
              "      width: 32px;\n",
              "    }\n",
              "\n",
              "    .colab-df-convert:hover {\n",
              "      background-color: #E2EBFA;\n",
              "      box-shadow: 0px 1px 2px rgba(60, 64, 67, 0.3), 0px 1px 3px 1px rgba(60, 64, 67, 0.15);\n",
              "      fill: #174EA6;\n",
              "    }\n",
              "\n",
              "    [theme=dark] .colab-df-convert {\n",
              "      background-color: #3B4455;\n",
              "      fill: #D2E3FC;\n",
              "    }\n",
              "\n",
              "    [theme=dark] .colab-df-convert:hover {\n",
              "      background-color: #434B5C;\n",
              "      box-shadow: 0px 1px 3px 1px rgba(0, 0, 0, 0.15);\n",
              "      filter: drop-shadow(0px 1px 2px rgba(0, 0, 0, 0.3));\n",
              "      fill: #FFFFFF;\n",
              "    }\n",
              "  </style>\n",
              "\n",
              "      <script>\n",
              "        const buttonEl =\n",
              "          document.querySelector('#df-85c4dce2-97d9-4158-bf9a-af61fbea966c button.colab-df-convert');\n",
              "        buttonEl.style.display =\n",
              "          google.colab.kernel.accessAllowed ? 'block' : 'none';\n",
              "\n",
              "        async function convertToInteractive(key) {\n",
              "          const element = document.querySelector('#df-85c4dce2-97d9-4158-bf9a-af61fbea966c');\n",
              "          const dataTable =\n",
              "            await google.colab.kernel.invokeFunction('convertToInteractive',\n",
              "                                                     [key], {});\n",
              "          if (!dataTable) return;\n",
              "\n",
              "          const docLinkHtml = 'Like what you see? Visit the ' +\n",
              "            '<a target=\"_blank\" href=https://colab.research.google.com/notebooks/data_table.ipynb>data table notebook</a>'\n",
              "            + ' to learn more about interactive tables.';\n",
              "          element.innerHTML = '';\n",
              "          dataTable['output_type'] = 'display_data';\n",
              "          await google.colab.output.renderOutput(dataTable, element);\n",
              "          const docLink = document.createElement('div');\n",
              "          docLink.innerHTML = docLinkHtml;\n",
              "          element.appendChild(docLink);\n",
              "        }\n",
              "      </script>\n",
              "    </div>\n",
              "  </div>\n",
              "  "
            ]
          },
          "metadata": {},
          "execution_count": 61
        }
      ],
      "source": [
        "data.head()"
      ]
    },
    {
      "cell_type": "code",
      "execution_count": null,
      "metadata": {
        "colab": {
          "base_uri": "https://localhost:8080/"
        },
        "id": "jnuoestL4Q5w",
        "outputId": "c889318f-c547-4581-c289-48989d4a4c08"
      },
      "outputs": [
        {
          "output_type": "stream",
          "name": "stdout",
          "text": [
            "<class 'pandas.core.frame.DataFrame'>\n",
            "RangeIndex: 3454 entries, 0 to 3453\n",
            "Data columns (total 15 columns):\n",
            " #   Column                 Non-Null Count  Dtype  \n",
            "---  ------                 --------------  -----  \n",
            " 0   device_brand           3454 non-null   object \n",
            " 1   os                     3454 non-null   object \n",
            " 2   screen_size            3454 non-null   float64\n",
            " 3   4g                     3454 non-null   object \n",
            " 4   5g                     3454 non-null   object \n",
            " 5   rear_camera_mp         3275 non-null   float64\n",
            " 6   front_camera_mp        3452 non-null   float64\n",
            " 7   internal_memory        3450 non-null   float64\n",
            " 8   ram                    3450 non-null   float64\n",
            " 9   battery                3448 non-null   float64\n",
            " 10  weight                 3447 non-null   float64\n",
            " 11  release_year           3454 non-null   int64  \n",
            " 12  days_used              3454 non-null   int64  \n",
            " 13  normalized_used_price  3454 non-null   float64\n",
            " 14  normalized_new_price   3454 non-null   float64\n",
            "dtypes: float64(9), int64(2), object(4)\n",
            "memory usage: 404.9+ KB\n"
          ]
        }
      ],
      "source": [
        "data.info()"
      ]
    },
    {
      "cell_type": "code",
      "execution_count": null,
      "metadata": {
        "colab": {
          "base_uri": "https://localhost:8080/",
          "height": 300
        },
        "id": "KVgJzEsa4Q5w",
        "outputId": "cea99800-6490-4ae5-9bf6-13117f384cea"
      },
      "outputs": [
        {
          "output_type": "execute_result",
          "data": {
            "text/plain": [
              "       screen_size  rear_camera_mp  front_camera_mp  internal_memory  \\\n",
              "count  3454.000000     3275.000000      3452.000000      3450.000000   \n",
              "mean     13.713115        9.460208         6.554229        54.573099   \n",
              "std       3.805280        4.815461         6.970372        84.972371   \n",
              "min       5.080000        0.080000         0.000000         0.010000   \n",
              "25%      12.700000        5.000000         2.000000        16.000000   \n",
              "50%      12.830000        8.000000         5.000000        32.000000   \n",
              "75%      15.340000       13.000000         8.000000        64.000000   \n",
              "max      30.710000       48.000000        32.000000      1024.000000   \n",
              "\n",
              "               ram      battery       weight  release_year    days_used  \\\n",
              "count  3450.000000  3448.000000  3447.000000   3454.000000  3454.000000   \n",
              "mean      4.036122  3133.402697   182.751871   2015.965258   674.869716   \n",
              "std       1.365105  1299.682844    88.413228      2.298455   248.580166   \n",
              "min       0.020000   500.000000    69.000000   2013.000000    91.000000   \n",
              "25%       4.000000  2100.000000   142.000000   2014.000000   533.500000   \n",
              "50%       4.000000  3000.000000   160.000000   2015.500000   690.500000   \n",
              "75%       4.000000  4000.000000   185.000000   2018.000000   868.750000   \n",
              "max      12.000000  9720.000000   855.000000   2020.000000  1094.000000   \n",
              "\n",
              "       normalized_used_price  normalized_new_price  \n",
              "count            3454.000000           3454.000000  \n",
              "mean                4.364712              5.233107  \n",
              "std                 0.588914              0.683637  \n",
              "min                 1.536867              2.901422  \n",
              "25%                 4.033931              4.790342  \n",
              "50%                 4.405133              5.245892  \n",
              "75%                 4.755700              5.673718  \n",
              "max                 6.619433              7.847841  "
            ],
            "text/html": [
              "\n",
              "  <div id=\"df-a513a65d-aac7-425c-b216-da657417ac3f\">\n",
              "    <div class=\"colab-df-container\">\n",
              "      <div>\n",
              "<style scoped>\n",
              "    .dataframe tbody tr th:only-of-type {\n",
              "        vertical-align: middle;\n",
              "    }\n",
              "\n",
              "    .dataframe tbody tr th {\n",
              "        vertical-align: top;\n",
              "    }\n",
              "\n",
              "    .dataframe thead th {\n",
              "        text-align: right;\n",
              "    }\n",
              "</style>\n",
              "<table border=\"1\" class=\"dataframe\">\n",
              "  <thead>\n",
              "    <tr style=\"text-align: right;\">\n",
              "      <th></th>\n",
              "      <th>screen_size</th>\n",
              "      <th>rear_camera_mp</th>\n",
              "      <th>front_camera_mp</th>\n",
              "      <th>internal_memory</th>\n",
              "      <th>ram</th>\n",
              "      <th>battery</th>\n",
              "      <th>weight</th>\n",
              "      <th>release_year</th>\n",
              "      <th>days_used</th>\n",
              "      <th>normalized_used_price</th>\n",
              "      <th>normalized_new_price</th>\n",
              "    </tr>\n",
              "  </thead>\n",
              "  <tbody>\n",
              "    <tr>\n",
              "      <th>count</th>\n",
              "      <td>3454.000000</td>\n",
              "      <td>3275.000000</td>\n",
              "      <td>3452.000000</td>\n",
              "      <td>3450.000000</td>\n",
              "      <td>3450.000000</td>\n",
              "      <td>3448.000000</td>\n",
              "      <td>3447.000000</td>\n",
              "      <td>3454.000000</td>\n",
              "      <td>3454.000000</td>\n",
              "      <td>3454.000000</td>\n",
              "      <td>3454.000000</td>\n",
              "    </tr>\n",
              "    <tr>\n",
              "      <th>mean</th>\n",
              "      <td>13.713115</td>\n",
              "      <td>9.460208</td>\n",
              "      <td>6.554229</td>\n",
              "      <td>54.573099</td>\n",
              "      <td>4.036122</td>\n",
              "      <td>3133.402697</td>\n",
              "      <td>182.751871</td>\n",
              "      <td>2015.965258</td>\n",
              "      <td>674.869716</td>\n",
              "      <td>4.364712</td>\n",
              "      <td>5.233107</td>\n",
              "    </tr>\n",
              "    <tr>\n",
              "      <th>std</th>\n",
              "      <td>3.805280</td>\n",
              "      <td>4.815461</td>\n",
              "      <td>6.970372</td>\n",
              "      <td>84.972371</td>\n",
              "      <td>1.365105</td>\n",
              "      <td>1299.682844</td>\n",
              "      <td>88.413228</td>\n",
              "      <td>2.298455</td>\n",
              "      <td>248.580166</td>\n",
              "      <td>0.588914</td>\n",
              "      <td>0.683637</td>\n",
              "    </tr>\n",
              "    <tr>\n",
              "      <th>min</th>\n",
              "      <td>5.080000</td>\n",
              "      <td>0.080000</td>\n",
              "      <td>0.000000</td>\n",
              "      <td>0.010000</td>\n",
              "      <td>0.020000</td>\n",
              "      <td>500.000000</td>\n",
              "      <td>69.000000</td>\n",
              "      <td>2013.000000</td>\n",
              "      <td>91.000000</td>\n",
              "      <td>1.536867</td>\n",
              "      <td>2.901422</td>\n",
              "    </tr>\n",
              "    <tr>\n",
              "      <th>25%</th>\n",
              "      <td>12.700000</td>\n",
              "      <td>5.000000</td>\n",
              "      <td>2.000000</td>\n",
              "      <td>16.000000</td>\n",
              "      <td>4.000000</td>\n",
              "      <td>2100.000000</td>\n",
              "      <td>142.000000</td>\n",
              "      <td>2014.000000</td>\n",
              "      <td>533.500000</td>\n",
              "      <td>4.033931</td>\n",
              "      <td>4.790342</td>\n",
              "    </tr>\n",
              "    <tr>\n",
              "      <th>50%</th>\n",
              "      <td>12.830000</td>\n",
              "      <td>8.000000</td>\n",
              "      <td>5.000000</td>\n",
              "      <td>32.000000</td>\n",
              "      <td>4.000000</td>\n",
              "      <td>3000.000000</td>\n",
              "      <td>160.000000</td>\n",
              "      <td>2015.500000</td>\n",
              "      <td>690.500000</td>\n",
              "      <td>4.405133</td>\n",
              "      <td>5.245892</td>\n",
              "    </tr>\n",
              "    <tr>\n",
              "      <th>75%</th>\n",
              "      <td>15.340000</td>\n",
              "      <td>13.000000</td>\n",
              "      <td>8.000000</td>\n",
              "      <td>64.000000</td>\n",
              "      <td>4.000000</td>\n",
              "      <td>4000.000000</td>\n",
              "      <td>185.000000</td>\n",
              "      <td>2018.000000</td>\n",
              "      <td>868.750000</td>\n",
              "      <td>4.755700</td>\n",
              "      <td>5.673718</td>\n",
              "    </tr>\n",
              "    <tr>\n",
              "      <th>max</th>\n",
              "      <td>30.710000</td>\n",
              "      <td>48.000000</td>\n",
              "      <td>32.000000</td>\n",
              "      <td>1024.000000</td>\n",
              "      <td>12.000000</td>\n",
              "      <td>9720.000000</td>\n",
              "      <td>855.000000</td>\n",
              "      <td>2020.000000</td>\n",
              "      <td>1094.000000</td>\n",
              "      <td>6.619433</td>\n",
              "      <td>7.847841</td>\n",
              "    </tr>\n",
              "  </tbody>\n",
              "</table>\n",
              "</div>\n",
              "      <button class=\"colab-df-convert\" onclick=\"convertToInteractive('df-a513a65d-aac7-425c-b216-da657417ac3f')\"\n",
              "              title=\"Convert this dataframe to an interactive table.\"\n",
              "              style=\"display:none;\">\n",
              "        \n",
              "  <svg xmlns=\"http://www.w3.org/2000/svg\" height=\"24px\"viewBox=\"0 0 24 24\"\n",
              "       width=\"24px\">\n",
              "    <path d=\"M0 0h24v24H0V0z\" fill=\"none\"/>\n",
              "    <path d=\"M18.56 5.44l.94 2.06.94-2.06 2.06-.94-2.06-.94-.94-2.06-.94 2.06-2.06.94zm-11 1L8.5 8.5l.94-2.06 2.06-.94-2.06-.94L8.5 2.5l-.94 2.06-2.06.94zm10 10l.94 2.06.94-2.06 2.06-.94-2.06-.94-.94-2.06-.94 2.06-2.06.94z\"/><path d=\"M17.41 7.96l-1.37-1.37c-.4-.4-.92-.59-1.43-.59-.52 0-1.04.2-1.43.59L10.3 9.45l-7.72 7.72c-.78.78-.78 2.05 0 2.83L4 21.41c.39.39.9.59 1.41.59.51 0 1.02-.2 1.41-.59l7.78-7.78 2.81-2.81c.8-.78.8-2.07 0-2.86zM5.41 20L4 18.59l7.72-7.72 1.47 1.35L5.41 20z\"/>\n",
              "  </svg>\n",
              "      </button>\n",
              "      \n",
              "  <style>\n",
              "    .colab-df-container {\n",
              "      display:flex;\n",
              "      flex-wrap:wrap;\n",
              "      gap: 12px;\n",
              "    }\n",
              "\n",
              "    .colab-df-convert {\n",
              "      background-color: #E8F0FE;\n",
              "      border: none;\n",
              "      border-radius: 50%;\n",
              "      cursor: pointer;\n",
              "      display: none;\n",
              "      fill: #1967D2;\n",
              "      height: 32px;\n",
              "      padding: 0 0 0 0;\n",
              "      width: 32px;\n",
              "    }\n",
              "\n",
              "    .colab-df-convert:hover {\n",
              "      background-color: #E2EBFA;\n",
              "      box-shadow: 0px 1px 2px rgba(60, 64, 67, 0.3), 0px 1px 3px 1px rgba(60, 64, 67, 0.15);\n",
              "      fill: #174EA6;\n",
              "    }\n",
              "\n",
              "    [theme=dark] .colab-df-convert {\n",
              "      background-color: #3B4455;\n",
              "      fill: #D2E3FC;\n",
              "    }\n",
              "\n",
              "    [theme=dark] .colab-df-convert:hover {\n",
              "      background-color: #434B5C;\n",
              "      box-shadow: 0px 1px 3px 1px rgba(0, 0, 0, 0.15);\n",
              "      filter: drop-shadow(0px 1px 2px rgba(0, 0, 0, 0.3));\n",
              "      fill: #FFFFFF;\n",
              "    }\n",
              "  </style>\n",
              "\n",
              "      <script>\n",
              "        const buttonEl =\n",
              "          document.querySelector('#df-a513a65d-aac7-425c-b216-da657417ac3f button.colab-df-convert');\n",
              "        buttonEl.style.display =\n",
              "          google.colab.kernel.accessAllowed ? 'block' : 'none';\n",
              "\n",
              "        async function convertToInteractive(key) {\n",
              "          const element = document.querySelector('#df-a513a65d-aac7-425c-b216-da657417ac3f');\n",
              "          const dataTable =\n",
              "            await google.colab.kernel.invokeFunction('convertToInteractive',\n",
              "                                                     [key], {});\n",
              "          if (!dataTable) return;\n",
              "\n",
              "          const docLinkHtml = 'Like what you see? Visit the ' +\n",
              "            '<a target=\"_blank\" href=https://colab.research.google.com/notebooks/data_table.ipynb>data table notebook</a>'\n",
              "            + ' to learn more about interactive tables.';\n",
              "          element.innerHTML = '';\n",
              "          dataTable['output_type'] = 'display_data';\n",
              "          await google.colab.output.renderOutput(dataTable, element);\n",
              "          const docLink = document.createElement('div');\n",
              "          docLink.innerHTML = docLinkHtml;\n",
              "          element.appendChild(docLink);\n",
              "        }\n",
              "      </script>\n",
              "    </div>\n",
              "  </div>\n",
              "  "
            ]
          },
          "metadata": {},
          "execution_count": 63
        }
      ],
      "source": [
        "data.describe()"
      ]
    },
    {
      "cell_type": "markdown",
      "metadata": {
        "id": "fC4U5XEv4Q5x"
      },
      "source": [
        "# Eksik Veri Analizi"
      ]
    },
    {
      "cell_type": "code",
      "execution_count": null,
      "metadata": {
        "scrolled": true,
        "colab": {
          "base_uri": "https://localhost:8080/"
        },
        "id": "Mpkbky3w4Q5x",
        "outputId": "2b2a4df4-7f17-4f2e-c922-cd0332a40ec9"
      },
      "outputs": [
        {
          "output_type": "execute_result",
          "data": {
            "text/plain": [
              "device_brand               0\n",
              "os                         0\n",
              "screen_size                0\n",
              "4g                         0\n",
              "5g                         0\n",
              "rear_camera_mp           179\n",
              "front_camera_mp            2\n",
              "internal_memory            4\n",
              "ram                        4\n",
              "battery                    6\n",
              "weight                     7\n",
              "release_year               0\n",
              "days_used                  0\n",
              "normalized_used_price      0\n",
              "normalized_new_price       0\n",
              "dtype: int64"
            ]
          },
          "metadata": {},
          "execution_count": 64
        }
      ],
      "source": [
        "data.isnull().sum()"
      ]
    },
    {
      "cell_type": "markdown",
      "source": [
        "## Eksik Verilerin Atılması"
      ],
      "metadata": {
        "id": "afOeEE0ly3fL"
      }
    },
    {
      "cell_type": "code",
      "execution_count": null,
      "metadata": {
        "id": "niYRuABx4Q5y"
      },
      "outputs": [],
      "source": [
        "data = data.dropna()"
      ]
    },
    {
      "cell_type": "markdown",
      "metadata": {
        "id": "aN_v1jAk4Q5z"
      },
      "source": [
        "# Dublike veri Kontrolü"
      ]
    },
    {
      "cell_type": "code",
      "execution_count": null,
      "metadata": {
        "colab": {
          "base_uri": "https://localhost:8080/"
        },
        "id": "mzIlYNxd4Q5z",
        "outputId": "95eead98-25b6-45d9-e89a-e96e891d139a"
      },
      "outputs": [
        {
          "output_type": "execute_result",
          "data": {
            "text/plain": [
              "0"
            ]
          },
          "metadata": {},
          "execution_count": 66
        }
      ],
      "source": [
        "data.duplicated().sum()"
      ]
    },
    {
      "cell_type": "markdown",
      "source": [
        "## Kategorik Verilerin Numerik Veriye Dönüşümü"
      ],
      "metadata": {
        "id": "iElpncKyy8zC"
      }
    },
    {
      "cell_type": "code",
      "execution_count": null,
      "metadata": {
        "id": "wlZ8fVcj4Q50"
      },
      "outputs": [],
      "source": [
        "dict_G = {'yes':1,'no':0}"
      ]
    },
    {
      "cell_type": "code",
      "execution_count": null,
      "metadata": {
        "id": "wnOa5mJ94Q50"
      },
      "outputs": [],
      "source": [
        "data['4g'] = data['4g'].map(dict_G)"
      ]
    },
    {
      "cell_type": "code",
      "execution_count": null,
      "metadata": {
        "id": "Tfb-TRgE4Q50"
      },
      "outputs": [],
      "source": [
        "data['5g'] = data['5g'].map(dict_G)"
      ]
    },
    {
      "cell_type": "code",
      "execution_count": null,
      "metadata": {
        "colab": {
          "base_uri": "https://localhost:8080/",
          "height": 206
        },
        "id": "k4uCetmS4Q50",
        "outputId": "1de1946e-d44e-4888-acc3-58966c3926a2"
      },
      "outputs": [
        {
          "output_type": "execute_result",
          "data": {
            "text/plain": [
              "  device_brand       os  screen_size  4g  5g  rear_camera_mp  front_camera_mp  \\\n",
              "0        Honor  Android        14.50   1   0            13.0              5.0   \n",
              "1        Honor  Android        17.30   1   1            13.0             16.0   \n",
              "2        Honor  Android        16.69   1   1            13.0              8.0   \n",
              "3        Honor  Android        25.50   1   1            13.0              8.0   \n",
              "4        Honor  Android        15.32   1   0            13.0              8.0   \n",
              "\n",
              "   internal_memory  ram  battery  weight  release_year  days_used  \\\n",
              "0             64.0  3.0   3020.0   146.0          2020        127   \n",
              "1            128.0  8.0   4300.0   213.0          2020        325   \n",
              "2            128.0  8.0   4200.0   213.0          2020        162   \n",
              "3             64.0  6.0   7250.0   480.0          2020        345   \n",
              "4             64.0  3.0   5000.0   185.0          2020        293   \n",
              "\n",
              "   normalized_used_price  normalized_new_price  \n",
              "0               4.307572              4.715100  \n",
              "1               5.162097              5.519018  \n",
              "2               5.111084              5.884631  \n",
              "3               5.135387              5.630961  \n",
              "4               4.389995              4.947837  "
            ],
            "text/html": [
              "\n",
              "  <div id=\"df-47613991-5ae2-42bf-a8cc-7bdcf24a3139\">\n",
              "    <div class=\"colab-df-container\">\n",
              "      <div>\n",
              "<style scoped>\n",
              "    .dataframe tbody tr th:only-of-type {\n",
              "        vertical-align: middle;\n",
              "    }\n",
              "\n",
              "    .dataframe tbody tr th {\n",
              "        vertical-align: top;\n",
              "    }\n",
              "\n",
              "    .dataframe thead th {\n",
              "        text-align: right;\n",
              "    }\n",
              "</style>\n",
              "<table border=\"1\" class=\"dataframe\">\n",
              "  <thead>\n",
              "    <tr style=\"text-align: right;\">\n",
              "      <th></th>\n",
              "      <th>device_brand</th>\n",
              "      <th>os</th>\n",
              "      <th>screen_size</th>\n",
              "      <th>4g</th>\n",
              "      <th>5g</th>\n",
              "      <th>rear_camera_mp</th>\n",
              "      <th>front_camera_mp</th>\n",
              "      <th>internal_memory</th>\n",
              "      <th>ram</th>\n",
              "      <th>battery</th>\n",
              "      <th>weight</th>\n",
              "      <th>release_year</th>\n",
              "      <th>days_used</th>\n",
              "      <th>normalized_used_price</th>\n",
              "      <th>normalized_new_price</th>\n",
              "    </tr>\n",
              "  </thead>\n",
              "  <tbody>\n",
              "    <tr>\n",
              "      <th>0</th>\n",
              "      <td>Honor</td>\n",
              "      <td>Android</td>\n",
              "      <td>14.50</td>\n",
              "      <td>1</td>\n",
              "      <td>0</td>\n",
              "      <td>13.0</td>\n",
              "      <td>5.0</td>\n",
              "      <td>64.0</td>\n",
              "      <td>3.0</td>\n",
              "      <td>3020.0</td>\n",
              "      <td>146.0</td>\n",
              "      <td>2020</td>\n",
              "      <td>127</td>\n",
              "      <td>4.307572</td>\n",
              "      <td>4.715100</td>\n",
              "    </tr>\n",
              "    <tr>\n",
              "      <th>1</th>\n",
              "      <td>Honor</td>\n",
              "      <td>Android</td>\n",
              "      <td>17.30</td>\n",
              "      <td>1</td>\n",
              "      <td>1</td>\n",
              "      <td>13.0</td>\n",
              "      <td>16.0</td>\n",
              "      <td>128.0</td>\n",
              "      <td>8.0</td>\n",
              "      <td>4300.0</td>\n",
              "      <td>213.0</td>\n",
              "      <td>2020</td>\n",
              "      <td>325</td>\n",
              "      <td>5.162097</td>\n",
              "      <td>5.519018</td>\n",
              "    </tr>\n",
              "    <tr>\n",
              "      <th>2</th>\n",
              "      <td>Honor</td>\n",
              "      <td>Android</td>\n",
              "      <td>16.69</td>\n",
              "      <td>1</td>\n",
              "      <td>1</td>\n",
              "      <td>13.0</td>\n",
              "      <td>8.0</td>\n",
              "      <td>128.0</td>\n",
              "      <td>8.0</td>\n",
              "      <td>4200.0</td>\n",
              "      <td>213.0</td>\n",
              "      <td>2020</td>\n",
              "      <td>162</td>\n",
              "      <td>5.111084</td>\n",
              "      <td>5.884631</td>\n",
              "    </tr>\n",
              "    <tr>\n",
              "      <th>3</th>\n",
              "      <td>Honor</td>\n",
              "      <td>Android</td>\n",
              "      <td>25.50</td>\n",
              "      <td>1</td>\n",
              "      <td>1</td>\n",
              "      <td>13.0</td>\n",
              "      <td>8.0</td>\n",
              "      <td>64.0</td>\n",
              "      <td>6.0</td>\n",
              "      <td>7250.0</td>\n",
              "      <td>480.0</td>\n",
              "      <td>2020</td>\n",
              "      <td>345</td>\n",
              "      <td>5.135387</td>\n",
              "      <td>5.630961</td>\n",
              "    </tr>\n",
              "    <tr>\n",
              "      <th>4</th>\n",
              "      <td>Honor</td>\n",
              "      <td>Android</td>\n",
              "      <td>15.32</td>\n",
              "      <td>1</td>\n",
              "      <td>0</td>\n",
              "      <td>13.0</td>\n",
              "      <td>8.0</td>\n",
              "      <td>64.0</td>\n",
              "      <td>3.0</td>\n",
              "      <td>5000.0</td>\n",
              "      <td>185.0</td>\n",
              "      <td>2020</td>\n",
              "      <td>293</td>\n",
              "      <td>4.389995</td>\n",
              "      <td>4.947837</td>\n",
              "    </tr>\n",
              "  </tbody>\n",
              "</table>\n",
              "</div>\n",
              "      <button class=\"colab-df-convert\" onclick=\"convertToInteractive('df-47613991-5ae2-42bf-a8cc-7bdcf24a3139')\"\n",
              "              title=\"Convert this dataframe to an interactive table.\"\n",
              "              style=\"display:none;\">\n",
              "        \n",
              "  <svg xmlns=\"http://www.w3.org/2000/svg\" height=\"24px\"viewBox=\"0 0 24 24\"\n",
              "       width=\"24px\">\n",
              "    <path d=\"M0 0h24v24H0V0z\" fill=\"none\"/>\n",
              "    <path d=\"M18.56 5.44l.94 2.06.94-2.06 2.06-.94-2.06-.94-.94-2.06-.94 2.06-2.06.94zm-11 1L8.5 8.5l.94-2.06 2.06-.94-2.06-.94L8.5 2.5l-.94 2.06-2.06.94zm10 10l.94 2.06.94-2.06 2.06-.94-2.06-.94-.94-2.06-.94 2.06-2.06.94z\"/><path d=\"M17.41 7.96l-1.37-1.37c-.4-.4-.92-.59-1.43-.59-.52 0-1.04.2-1.43.59L10.3 9.45l-7.72 7.72c-.78.78-.78 2.05 0 2.83L4 21.41c.39.39.9.59 1.41.59.51 0 1.02-.2 1.41-.59l7.78-7.78 2.81-2.81c.8-.78.8-2.07 0-2.86zM5.41 20L4 18.59l7.72-7.72 1.47 1.35L5.41 20z\"/>\n",
              "  </svg>\n",
              "      </button>\n",
              "      \n",
              "  <style>\n",
              "    .colab-df-container {\n",
              "      display:flex;\n",
              "      flex-wrap:wrap;\n",
              "      gap: 12px;\n",
              "    }\n",
              "\n",
              "    .colab-df-convert {\n",
              "      background-color: #E8F0FE;\n",
              "      border: none;\n",
              "      border-radius: 50%;\n",
              "      cursor: pointer;\n",
              "      display: none;\n",
              "      fill: #1967D2;\n",
              "      height: 32px;\n",
              "      padding: 0 0 0 0;\n",
              "      width: 32px;\n",
              "    }\n",
              "\n",
              "    .colab-df-convert:hover {\n",
              "      background-color: #E2EBFA;\n",
              "      box-shadow: 0px 1px 2px rgba(60, 64, 67, 0.3), 0px 1px 3px 1px rgba(60, 64, 67, 0.15);\n",
              "      fill: #174EA6;\n",
              "    }\n",
              "\n",
              "    [theme=dark] .colab-df-convert {\n",
              "      background-color: #3B4455;\n",
              "      fill: #D2E3FC;\n",
              "    }\n",
              "\n",
              "    [theme=dark] .colab-df-convert:hover {\n",
              "      background-color: #434B5C;\n",
              "      box-shadow: 0px 1px 3px 1px rgba(0, 0, 0, 0.15);\n",
              "      filter: drop-shadow(0px 1px 2px rgba(0, 0, 0, 0.3));\n",
              "      fill: #FFFFFF;\n",
              "    }\n",
              "  </style>\n",
              "\n",
              "      <script>\n",
              "        const buttonEl =\n",
              "          document.querySelector('#df-47613991-5ae2-42bf-a8cc-7bdcf24a3139 button.colab-df-convert');\n",
              "        buttonEl.style.display =\n",
              "          google.colab.kernel.accessAllowed ? 'block' : 'none';\n",
              "\n",
              "        async function convertToInteractive(key) {\n",
              "          const element = document.querySelector('#df-47613991-5ae2-42bf-a8cc-7bdcf24a3139');\n",
              "          const dataTable =\n",
              "            await google.colab.kernel.invokeFunction('convertToInteractive',\n",
              "                                                     [key], {});\n",
              "          if (!dataTable) return;\n",
              "\n",
              "          const docLinkHtml = 'Like what you see? Visit the ' +\n",
              "            '<a target=\"_blank\" href=https://colab.research.google.com/notebooks/data_table.ipynb>data table notebook</a>'\n",
              "            + ' to learn more about interactive tables.';\n",
              "          element.innerHTML = '';\n",
              "          dataTable['output_type'] = 'display_data';\n",
              "          await google.colab.output.renderOutput(dataTable, element);\n",
              "          const docLink = document.createElement('div');\n",
              "          docLink.innerHTML = docLinkHtml;\n",
              "          element.appendChild(docLink);\n",
              "        }\n",
              "      </script>\n",
              "    </div>\n",
              "  </div>\n",
              "  "
            ]
          },
          "metadata": {},
          "execution_count": 70
        }
      ],
      "source": [
        "data.head()"
      ]
    },
    {
      "cell_type": "code",
      "execution_count": null,
      "metadata": {
        "colab": {
          "base_uri": "https://localhost:8080/"
        },
        "id": "at-deuWL4Q52",
        "outputId": "2f1edba0-c073-4712-b517-a671aa21075e"
      },
      "outputs": [
        {
          "output_type": "execute_result",
          "data": {
            "text/plain": [
              "Android    3024\n",
              "Others      128\n",
              "Windows      65\n",
              "iOS          36\n",
              "Name: os, dtype: int64"
            ]
          },
          "metadata": {},
          "execution_count": 71
        }
      ],
      "source": [
        "data.os.value_counts()"
      ]
    },
    {
      "cell_type": "code",
      "execution_count": null,
      "metadata": {
        "scrolled": true,
        "colab": {
          "base_uri": "https://localhost:8080/",
          "height": 296
        },
        "id": "HYiKjbpX4Q52",
        "outputId": "76b20401-9bad-4cb5-eeb4-5094af470bb3"
      },
      "outputs": [
        {
          "output_type": "execute_result",
          "data": {
            "text/plain": [
              "<matplotlib.axes._subplots.AxesSubplot at 0x7fa513b3d730>"
            ]
          },
          "metadata": {},
          "execution_count": 72
        },
        {
          "output_type": "display_data",
          "data": {
            "text/plain": [
              "<Figure size 432x288 with 1 Axes>"
            ],
            "image/png": "[encoded data removed]"
          },
          "metadata": {
            "needs_background": "light"
          }
        }
      ],
      "source": [
        "sns.countplot(data['os'])"
      ]
    },
    {
      "cell_type": "code",
      "source": [
        "data.device_brand.value_counts()"
      ],
      "metadata": {
        "colab": {
          "base_uri": "https://localhost:8080/"
        },
        "id": "lKYJXYZCv8xl",
        "outputId": "24ed9d5f-8d1e-4c80-b366-8d8c7e94c76a"
      },
      "execution_count": null,
      "outputs": [
        {
          "output_type": "execute_result",
          "data": {
            "text/plain": [
              "Others        502\n",
              "Samsung       341\n",
              "Huawei        251\n",
              "LG            201\n",
              "Lenovo        171\n",
              "ZTE           136\n",
              "Alcatel       121\n",
              "Asus          118\n",
              "Micromax      117\n",
              "Honor         116\n",
              "HTC           110\n",
              "Xiaomi        109\n",
              "Oppo          109\n",
              "Vivo          103\n",
              "Nokia          97\n",
              "Motorola       88\n",
              "Sony           79\n",
              "Gionee         56\n",
              "Acer           51\n",
              "Panasonic      45\n",
              "Meizu          44\n",
              "XOLO           42\n",
              "Apple          39\n",
              "Lava           34\n",
              "Celkon         33\n",
              "Spice          30\n",
              "Karbonn        29\n",
              "Microsoft      21\n",
              "Coolpad        19\n",
              "BlackBerry     18\n",
              "Google         13\n",
              "OnePlus         5\n",
              "Realme          5\n",
              "Name: device_brand, dtype: int64"
            ]
          },
          "metadata": {},
          "execution_count": 73
        }
      ]
    },
    {
      "cell_type": "code",
      "source": [
        "sns.countplot(data['device_brand'])"
      ],
      "metadata": {
        "colab": {
          "base_uri": "https://localhost:8080/",
          "height": 297
        },
        "id": "VvXUai00wCGE",
        "outputId": "bc0ac31a-3060-45f9-cd53-ed48165c9d9c"
      },
      "execution_count": null,
      "outputs": [
        {
          "output_type": "execute_result",
          "data": {
            "text/plain": [
              "<matplotlib.axes._subplots.AxesSubplot at 0x7fa510a16070>"
            ]
          },
          "metadata": {},
          "execution_count": 74
        },
        {
          "output_type": "display_data",
          "data": {
            "text/plain": [
              "<Figure size 432x288 with 1 Axes>"
            ],
            "image/png": "[encoded data removed]"
          },
          "metadata": {
            "needs_background": "light"
          }
        }
      ]
    },
    {
      "cell_type": "markdown",
      "source": [
        "## OS ve device_brand dengesiz dağılıma sahip. bu durum makine öğrenmesi modelimizi olumsuz etkileyeceğinden bu iki özellik atılacaktır."
      ],
      "metadata": {
        "id": "uFUprmItof8S"
      }
    },
    {
      "cell_type": "code",
      "execution_count": null,
      "metadata": {
        "id": "zEC4F9Or4Q5_"
      },
      "outputs": [],
      "source": [
        "data = data.drop(['os','device_brand'],axis=1)"
      ]
    },
    {
      "cell_type": "code",
      "execution_count": null,
      "metadata": {
        "colab": {
          "base_uri": "https://localhost:8080/"
        },
        "id": "kglR8Uyj4Q53",
        "outputId": "be6e9acf-33e6-4c36-fbe1-7d23ea79ac73"
      },
      "outputs": [
        {
          "output_type": "execute_result",
          "data": {
            "text/plain": [
              "2014    639\n",
              "2013    567\n",
              "2015    507\n",
              "2019    399\n",
              "2016    381\n",
              "2018    310\n",
              "2017    297\n",
              "2020    153\n",
              "Name: release_year, dtype: int64"
            ]
          },
          "metadata": {},
          "execution_count": 77
        }
      ],
      "source": [
        "data['release_year'].value_counts()"
      ]
    },
    {
      "cell_type": "code",
      "execution_count": null,
      "metadata": {
        "colab": {
          "base_uri": "https://localhost:8080/",
          "height": 297
        },
        "id": "9LwtcfVd4Q53",
        "outputId": "8741524c-7364-44a6-dd2a-b2d6d5ee4df6"
      },
      "outputs": [
        {
          "output_type": "execute_result",
          "data": {
            "text/plain": [
              "<matplotlib.axes._subplots.AxesSubplot at 0x7fa5104c4700>"
            ]
          },
          "metadata": {},
          "execution_count": 78
        },
        {
          "output_type": "display_data",
          "data": {
            "text/plain": [
              "<Figure size 432x288 with 1 Axes>"
            ],
            "image/png": "[encoded data removed]"
          },
          "metadata": {
            "needs_background": "light"
          }
        }
      ],
      "source": [
        "sns.countplot(data['release_year'])"
      ]
    },
    {
      "cell_type": "markdown",
      "metadata": {
        "id": "CDhG6R7i4Q54"
      },
      "source": [
        "# Verisetindeki özelliklerin histogram dağıllımı"
      ]
    },
    {
      "cell_type": "code",
      "execution_count": null,
      "metadata": {
        "colab": {
          "base_uri": "https://localhost:8080/",
          "height": 585
        },
        "id": "1Et4OiVN4Q55",
        "outputId": "8933fb9d-6c6c-4bda-d886-1a9e0f964ca9"
      },
      "outputs": [
        {
          "output_type": "display_data",
          "data": {
            "text/plain": [
              "<Figure size 864x576 with 16 Axes>"
            ],
            "image/png": "[encoded data removed]"
          },
          "metadata": {
            "needs_background": "light"
          }
        }
      ],
      "source": [
        "data.hist(figsize=(12,8),bins=30)\n",
        "plt.tight_layout()"
      ]
    },
    {
      "cell_type": "markdown",
      "metadata": {
        "id": "D-X0T_ba4Q55"
      },
      "source": [
        "## Özellikler arasındaki ilişkiyi görebilmek için Korelasyon Matrisi"
      ]
    },
    {
      "cell_type": "code",
      "execution_count": null,
      "metadata": {
        "colab": {
          "base_uri": "https://localhost:8080/",
          "height": 608
        },
        "id": "BM-vCEiL4Q55",
        "outputId": "2e760312-4ff9-4259-b74a-ff14b1dafef9"
      },
      "outputs": [
        {
          "output_type": "execute_result",
          "data": {
            "text/plain": [
              "<matplotlib.axes._subplots.AxesSubplot at 0x7fa510cdd070>"
            ]
          },
          "metadata": {},
          "execution_count": 80
        },
        {
          "output_type": "display_data",
          "data": {
            "text/plain": [
              "<Figure size 864x576 with 2 Axes>"
            ],
            "image/png": "[encoded data removed]"
          },
          "metadata": {
            "needs_background": "light"
          }
        }
      ],
      "source": [
        "fig = plt.figure(figsize=(12,8))\n",
        "sns.heatmap(data.corr(),annot=True)"
      ]
    },
    {
      "cell_type": "code",
      "source": [
        "data.head()"
      ],
      "metadata": {
        "colab": {
          "base_uri": "https://localhost:8080/",
          "height": 206
        },
        "id": "EmJ2VeiOwkb_",
        "outputId": "129daa1f-23d1-477e-c9fe-9bb8461972c4"
      },
      "execution_count": null,
      "outputs": [
        {
          "output_type": "execute_result",
          "data": {
            "text/plain": [
              "   screen_size  4g  5g  rear_camera_mp  front_camera_mp  internal_memory  ram  \\\n",
              "0        14.50   1   0            13.0              5.0             64.0  3.0   \n",
              "1        17.30   1   1            13.0             16.0            128.0  8.0   \n",
              "2        16.69   1   1            13.0              8.0            128.0  8.0   \n",
              "3        25.50   1   1            13.0              8.0             64.0  6.0   \n",
              "4        15.32   1   0            13.0              8.0             64.0  3.0   \n",
              "\n",
              "   battery  weight  release_year  days_used  normalized_used_price  \\\n",
              "0   3020.0   146.0          2020        127               4.307572   \n",
              "1   4300.0   213.0          2020        325               5.162097   \n",
              "2   4200.0   213.0          2020        162               5.111084   \n",
              "3   7250.0   480.0          2020        345               5.135387   \n",
              "4   5000.0   185.0          2020        293               4.389995   \n",
              "\n",
              "   normalized_new_price  \n",
              "0              4.715100  \n",
              "1              5.519018  \n",
              "2              5.884631  \n",
              "3              5.630961  \n",
              "4              4.947837  "
            ],
            "text/html": [
              "\n",
              "  <div id=\"df-47553fac-b5dd-4aea-8218-c9ca00d06bda\">\n",
              "    <div class=\"colab-df-container\">\n",
              "      <div>\n",
              "<style scoped>\n",
              "    .dataframe tbody tr th:only-of-type {\n",
              "        vertical-align: middle;\n",
              "    }\n",
              "\n",
              "    .dataframe tbody tr th {\n",
              "        vertical-align: top;\n",
              "    }\n",
              "\n",
              "    .dataframe thead th {\n",
              "        text-align: right;\n",
              "    }\n",
              "</style>\n",
              "<table border=\"1\" class=\"dataframe\">\n",
              "  <thead>\n",
              "    <tr style=\"text-align: right;\">\n",
              "      <th></th>\n",
              "      <th>screen_size</th>\n",
              "      <th>4g</th>\n",
              "      <th>5g</th>\n",
              "      <th>rear_camera_mp</th>\n",
              "      <th>front_camera_mp</th>\n",
              "      <th>internal_memory</th>\n",
              "      <th>ram</th>\n",
              "      <th>battery</th>\n",
              "      <th>weight</th>\n",
              "      <th>release_year</th>\n",
              "      <th>days_used</th>\n",
              "      <th>normalized_used_price</th>\n",
              "      <th>normalized_new_price</th>\n",
              "    </tr>\n",
              "  </thead>\n",
              "  <tbody>\n",
              "    <tr>\n",
              "      <th>0</th>\n",
              "      <td>14.50</td>\n",
              "      <td>1</td>\n",
              "      <td>0</td>\n",
              "      <td>13.0</td>\n",
              "      <td>5.0</td>\n",
              "      <td>64.0</td>\n",
              "      <td>3.0</td>\n",
              "      <td>3020.0</td>\n",
              "      <td>146.0</td>\n",
              "      <td>2020</td>\n",
              "      <td>127</td>\n",
              "      <td>4.307572</td>\n",
              "      <td>4.715100</td>\n",
              "    </tr>\n",
              "    <tr>\n",
              "      <th>1</th>\n",
              "      <td>17.30</td>\n",
              "      <td>1</td>\n",
              "      <td>1</td>\n",
              "      <td>13.0</td>\n",
              "      <td>16.0</td>\n",
              "      <td>128.0</td>\n",
              "      <td>8.0</td>\n",
              "      <td>4300.0</td>\n",
              "      <td>213.0</td>\n",
              "      <td>2020</td>\n",
              "      <td>325</td>\n",
              "      <td>5.162097</td>\n",
              "      <td>5.519018</td>\n",
              "    </tr>\n",
              "    <tr>\n",
              "      <th>2</th>\n",
              "      <td>16.69</td>\n",
              "      <td>1</td>\n",
              "      <td>1</td>\n",
              "      <td>13.0</td>\n",
              "      <td>8.0</td>\n",
              "      <td>128.0</td>\n",
              "      <td>8.0</td>\n",
              "      <td>4200.0</td>\n",
              "      <td>213.0</td>\n",
              "      <td>2020</td>\n",
              "      <td>162</td>\n",
              "      <td>5.111084</td>\n",
              "      <td>5.884631</td>\n",
              "    </tr>\n",
              "    <tr>\n",
              "      <th>3</th>\n",
              "      <td>25.50</td>\n",
              "      <td>1</td>\n",
              "      <td>1</td>\n",
              "      <td>13.0</td>\n",
              "      <td>8.0</td>\n",
              "      <td>64.0</td>\n",
              "      <td>6.0</td>\n",
              "      <td>7250.0</td>\n",
              "      <td>480.0</td>\n",
              "      <td>2020</td>\n",
              "      <td>345</td>\n",
              "      <td>5.135387</td>\n",
              "      <td>5.630961</td>\n",
              "    </tr>\n",
              "    <tr>\n",
              "      <th>4</th>\n",
              "      <td>15.32</td>\n",
              "      <td>1</td>\n",
              "      <td>0</td>\n",
              "      <td>13.0</td>\n",
              "      <td>8.0</td>\n",
              "      <td>64.0</td>\n",
              "      <td>3.0</td>\n",
              "      <td>5000.0</td>\n",
              "      <td>185.0</td>\n",
              "      <td>2020</td>\n",
              "      <td>293</td>\n",
              "      <td>4.389995</td>\n",
              "      <td>4.947837</td>\n",
              "    </tr>\n",
              "  </tbody>\n",
              "</table>\n",
              "</div>\n",
              "      <button class=\"colab-df-convert\" onclick=\"convertToInteractive('df-47553fac-b5dd-4aea-8218-c9ca00d06bda')\"\n",
              "              title=\"Convert this dataframe to an interactive table.\"\n",
              "              style=\"display:none;\">\n",
              "        \n",
              "  <svg xmlns=\"http://www.w3.org/2000/svg\" height=\"24px\"viewBox=\"0 0 24 24\"\n",
              "       width=\"24px\">\n",
              "    <path d=\"M0 0h24v24H0V0z\" fill=\"none\"/>\n",
              "    <path d=\"M18.56 5.44l.94 2.06.94-2.06 2.06-.94-2.06-.94-.94-2.06-.94 2.06-2.06.94zm-11 1L8.5 8.5l.94-2.06 2.06-.94-2.06-.94L8.5 2.5l-.94 2.06-2.06.94zm10 10l.94 2.06.94-2.06 2.06-.94-2.06-.94-.94-2.06-.94 2.06-2.06.94z\"/><path d=\"M17.41 7.96l-1.37-1.37c-.4-.4-.92-.59-1.43-.59-.52 0-1.04.2-1.43.59L10.3 9.45l-7.72 7.72c-.78.78-.78 2.05 0 2.83L4 21.41c.39.39.9.59 1.41.59.51 0 1.02-.2 1.41-.59l7.78-7.78 2.81-2.81c.8-.78.8-2.07 0-2.86zM5.41 20L4 18.59l7.72-7.72 1.47 1.35L5.41 20z\"/>\n",
              "  </svg>\n",
              "      </button>\n",
              "      \n",
              "  <style>\n",
              "    .colab-df-container {\n",
              "      display:flex;\n",
              "      flex-wrap:wrap;\n",
              "      gap: 12px;\n",
              "    }\n",
              "\n",
              "    .colab-df-convert {\n",
              "      background-color: #E8F0FE;\n",
              "      border: none;\n",
              "      border-radius: 50%;\n",
              "      cursor: pointer;\n",
              "      display: none;\n",
              "      fill: #1967D2;\n",
              "      height: 32px;\n",
              "      padding: 0 0 0 0;\n",
              "      width: 32px;\n",
              "    }\n",
              "\n",
              "    .colab-df-convert:hover {\n",
              "      background-color: #E2EBFA;\n",
              "      box-shadow: 0px 1px 2px rgba(60, 64, 67, 0.3), 0px 1px 3px 1px rgba(60, 64, 67, 0.15);\n",
              "      fill: #174EA6;\n",
              "    }\n",
              "\n",
              "    [theme=dark] .colab-df-convert {\n",
              "      background-color: #3B4455;\n",
              "      fill: #D2E3FC;\n",
              "    }\n",
              "\n",
              "    [theme=dark] .colab-df-convert:hover {\n",
              "      background-color: #434B5C;\n",
              "      box-shadow: 0px 1px 3px 1px rgba(0, 0, 0, 0.15);\n",
              "      filter: drop-shadow(0px 1px 2px rgba(0, 0, 0, 0.3));\n",
              "      fill: #FFFFFF;\n",
              "    }\n",
              "  </style>\n",
              "\n",
              "      <script>\n",
              "        const buttonEl =\n",
              "          document.querySelector('#df-47553fac-b5dd-4aea-8218-c9ca00d06bda button.colab-df-convert');\n",
              "        buttonEl.style.display =\n",
              "          google.colab.kernel.accessAllowed ? 'block' : 'none';\n",
              "\n",
              "        async function convertToInteractive(key) {\n",
              "          const element = document.querySelector('#df-47553fac-b5dd-4aea-8218-c9ca00d06bda');\n",
              "          const dataTable =\n",
              "            await google.colab.kernel.invokeFunction('convertToInteractive',\n",
              "                                                     [key], {});\n",
              "          if (!dataTable) return;\n",
              "\n",
              "          const docLinkHtml = 'Like what you see? Visit the ' +\n",
              "            '<a target=\"_blank\" href=https://colab.research.google.com/notebooks/data_table.ipynb>data table notebook</a>'\n",
              "            + ' to learn more about interactive tables.';\n",
              "          element.innerHTML = '';\n",
              "          dataTable['output_type'] = 'display_data';\n",
              "          await google.colab.output.renderOutput(dataTable, element);\n",
              "          const docLink = document.createElement('div');\n",
              "          docLink.innerHTML = docLinkHtml;\n",
              "          element.appendChild(docLink);\n",
              "        }\n",
              "      </script>\n",
              "    </div>\n",
              "  </div>\n",
              "  "
            ]
          },
          "metadata": {},
          "execution_count": 81
        }
      ]
    },
    {
      "cell_type": "code",
      "source": [
        "columns=data.columns"
      ],
      "metadata": {
        "id": "Pwgd4vqgw_md"
      },
      "execution_count": null,
      "outputs": []
    },
    {
      "cell_type": "code",
      "source": [
        "columns"
      ],
      "metadata": {
        "colab": {
          "base_uri": "https://localhost:8080/"
        },
        "id": "90zIytCbxB6S",
        "outputId": "6eb4128e-e4b6-4e3c-db80-3a22df50b4bf"
      },
      "execution_count": null,
      "outputs": [
        {
          "output_type": "execute_result",
          "data": {
            "text/plain": [
              "Index(['screen_size', '4g', '5g', 'rear_camera_mp', 'front_camera_mp',\n",
              "       'internal_memory', 'ram', 'battery', 'weight', 'release_year',\n",
              "       'days_used', 'normalized_used_price', 'normalized_new_price'],\n",
              "      dtype='object')"
            ]
          },
          "metadata": {},
          "execution_count": 84
        }
      ]
    },
    {
      "cell_type": "markdown",
      "metadata": {
        "id": "Z64uV8ed4Q56"
      },
      "source": [
        "## Aykırı Değer Tespiti"
      ]
    },
    {
      "cell_type": "code",
      "execution_count": null,
      "metadata": {
        "id": "Wsf8Y3_u4Q56"
      },
      "outputs": [],
      "source": [
        "def detect_outliers(columns):\n",
        "    outlier_indices = []\n",
        "\n",
        "    for column in columns:\n",
        "        # 1st quartile\n",
        "        Q1 = np.percentile(data[column], 25)\n",
        "        # 3st quartile\n",
        "        Q3 = np.percentile(data[column], 75)\n",
        "        # IQR\n",
        "        IQR = Q3 - Q1\n",
        "        # Outlier Step\n",
        "        outlier_step = IQR * 1.5\n",
        "        # detect outlier and their indeces\n",
        "        outlier_list_col = data[(data[column] < Q1 - outlier_step)\n",
        "                              | (data[column] > Q3 + outlier_step)].index\n",
        "        # store indeces\n",
        "        outlier_indices.extend(outlier_list_col)\n",
        "        return outlier_indices"
      ]
    },
    {
      "cell_type": "code",
      "execution_count": null,
      "metadata": {
        "colab": {
          "base_uri": "https://localhost:8080/"
        },
        "id": "88wkQgJT4Q57",
        "outputId": "cf6ae9bf-4aa5-4edb-aad0-97dcf5c3b563"
      },
      "outputs": [
        {
          "output_type": "execute_result",
          "data": {
            "text/plain": [
              "440"
            ]
          },
          "metadata": {},
          "execution_count": 87
        }
      ],
      "source": [
        "len(detect_outliers(columns))"
      ]
    },
    {
      "cell_type": "markdown",
      "metadata": {
        "id": "c5722KQK4Q57"
      },
      "source": [
        "## 440 adet aykırı değer bulunmuştur."
      ]
    },
    {
      "cell_type": "code",
      "execution_count": null,
      "metadata": {
        "colab": {
          "base_uri": "https://localhost:8080/"
        },
        "id": "5FuBM5QY4Q5-",
        "outputId": "b0a4a2c6-9a34-4137-f0ee-de9fdd2b7708"
      },
      "outputs": [
        {
          "output_type": "execute_result",
          "data": {
            "text/plain": [
              "440"
            ]
          },
          "metadata": {},
          "execution_count": 88
        }
      ],
      "source": [
        "len(detect_outliers(columns))"
      ]
    },
    {
      "cell_type": "markdown",
      "source": [
        "## Aykırı değerlerin atılması"
      ],
      "metadata": {
        "id": "gndSmQY9xURa"
      }
    },
    {
      "cell_type": "code",
      "execution_count": null,
      "metadata": {
        "id": "zG3Se7UI4Q5-"
      },
      "outputs": [],
      "source": [
        "data = data.drop(detect_outliers(columns),axis = 0).reset_index(drop = True)"
      ]
    },
    {
      "cell_type": "code",
      "execution_count": null,
      "metadata": {
        "colab": {
          "base_uri": "https://localhost:8080/"
        },
        "id": "2sAqck9P4Q5-",
        "outputId": "162ad4c8-2dc4-4a11-d383-e712feff721a"
      },
      "outputs": [
        {
          "output_type": "stream",
          "name": "stdout",
          "text": [
            "<class 'pandas.core.frame.DataFrame'>\n",
            "RangeIndex: 2813 entries, 0 to 2812\n",
            "Data columns (total 13 columns):\n",
            " #   Column                 Non-Null Count  Dtype  \n",
            "---  ------                 --------------  -----  \n",
            " 0   screen_size            2813 non-null   float64\n",
            " 1   4g                     2813 non-null   int64  \n",
            " 2   5g                     2813 non-null   int64  \n",
            " 3   rear_camera_mp         2813 non-null   float64\n",
            " 4   front_camera_mp        2813 non-null   float64\n",
            " 5   internal_memory        2813 non-null   float64\n",
            " 6   ram                    2813 non-null   float64\n",
            " 7   battery                2813 non-null   float64\n",
            " 8   weight                 2813 non-null   float64\n",
            " 9   release_year           2813 non-null   int64  \n",
            " 10  days_used              2813 non-null   int64  \n",
            " 11  normalized_used_price  2813 non-null   float64\n",
            " 12  normalized_new_price   2813 non-null   float64\n",
            "dtypes: float64(9), int64(4)\n",
            "memory usage: 285.8 KB\n"
          ]
        }
      ],
      "source": [
        "data.info()"
      ]
    },
    {
      "cell_type": "markdown",
      "source": [
        "## telefonun çıkarılma tarihini one hot endocing ile dönüşümü"
      ],
      "metadata": {
        "id": "lM8ro8r8pBM3"
      }
    },
    {
      "cell_type": "code",
      "execution_count": null,
      "metadata": {
        "id": "CGHUlf-u4Q5_"
      },
      "outputs": [],
      "source": [
        "dummies_year = pd.get_dummies(data['release_year'],drop_first=True)\n",
        "data = pd.concat([data,dummies_year],axis=1)\n",
        "data = data.drop('release_year',axis=1)"
      ]
    },
    {
      "cell_type": "code",
      "execution_count": null,
      "metadata": {
        "colab": {
          "base_uri": "https://localhost:8080/",
          "height": 206
        },
        "id": "beZwD8pg4Q5_",
        "outputId": "f9edbfbd-9f7b-47be-d646-3bba23d8b18c"
      },
      "outputs": [
        {
          "output_type": "execute_result",
          "data": {
            "text/plain": [
              "   screen_size  4g  5g  rear_camera_mp  front_camera_mp  internal_memory  ram  \\\n",
              "0        14.50   1   0            13.0              5.0             64.0  3.0   \n",
              "1        17.30   1   1            13.0             16.0            128.0  8.0   \n",
              "2        16.69   1   1            13.0              8.0            128.0  8.0   \n",
              "3        15.32   1   0            13.0              8.0             64.0  3.0   \n",
              "4        16.23   1   0            13.0              8.0             64.0  4.0   \n",
              "\n",
              "   battery  weight  days_used  normalized_used_price  normalized_new_price  \\\n",
              "0   3020.0   146.0        127               4.307572              4.715100   \n",
              "1   4300.0   213.0        325               5.162097              5.519018   \n",
              "2   4200.0   213.0        162               5.111084              5.884631   \n",
              "3   5000.0   185.0        293               4.389995              4.947837   \n",
              "4   4000.0   176.0        223               4.413889              5.060694   \n",
              "\n",
              "   2014  2015  2016  2017  2018  2019  2020  \n",
              "0     0     0     0     0     0     0     1  \n",
              "1     0     0     0     0     0     0     1  \n",
              "2     0     0     0     0     0     0     1  \n",
              "3     0     0     0     0     0     0     1  \n",
              "4     0     0     0     0     0     0     1  "
            ],
            "text/html": [
              "\n",
              "  <div id=\"df-463662c2-f6fa-468d-b24a-00451101cb26\">\n",
              "    <div class=\"colab-df-container\">\n",
              "      <div>\n",
              "<style scoped>\n",
              "    .dataframe tbody tr th:only-of-type {\n",
              "        vertical-align: middle;\n",
              "    }\n",
              "\n",
              "    .dataframe tbody tr th {\n",
              "        vertical-align: top;\n",
              "    }\n",
              "\n",
              "    .dataframe thead th {\n",
              "        text-align: right;\n",
              "    }\n",
              "</style>\n",
              "<table border=\"1\" class=\"dataframe\">\n",
              "  <thead>\n",
              "    <tr style=\"text-align: right;\">\n",
              "      <th></th>\n",
              "      <th>screen_size</th>\n",
              "      <th>4g</th>\n",
              "      <th>5g</th>\n",
              "      <th>rear_camera_mp</th>\n",
              "      <th>front_camera_mp</th>\n",
              "      <th>internal_memory</th>\n",
              "      <th>ram</th>\n",
              "      <th>battery</th>\n",
              "      <th>weight</th>\n",
              "      <th>days_used</th>\n",
              "      <th>normalized_used_price</th>\n",
              "      <th>normalized_new_price</th>\n",
              "      <th>2014</th>\n",
              "      <th>2015</th>\n",
              "      <th>2016</th>\n",
              "      <th>2017</th>\n",
              "      <th>2018</th>\n",
              "      <th>2019</th>\n",
              "      <th>2020</th>\n",
              "    </tr>\n",
              "  </thead>\n",
              "  <tbody>\n",
              "    <tr>\n",
              "      <th>0</th>\n",
              "      <td>14.50</td>\n",
              "      <td>1</td>\n",
              "      <td>0</td>\n",
              "      <td>13.0</td>\n",
              "      <td>5.0</td>\n",
              "      <td>64.0</td>\n",
              "      <td>3.0</td>\n",
              "      <td>3020.0</td>\n",
              "      <td>146.0</td>\n",
              "      <td>127</td>\n",
              "      <td>4.307572</td>\n",
              "      <td>4.715100</td>\n",
              "      <td>0</td>\n",
              "      <td>0</td>\n",
              "      <td>0</td>\n",
              "      <td>0</td>\n",
              "      <td>0</td>\n",
              "      <td>0</td>\n",
              "      <td>1</td>\n",
              "    </tr>\n",
              "    <tr>\n",
              "      <th>1</th>\n",
              "      <td>17.30</td>\n",
              "      <td>1</td>\n",
              "      <td>1</td>\n",
              "      <td>13.0</td>\n",
              "      <td>16.0</td>\n",
              "      <td>128.0</td>\n",
              "      <td>8.0</td>\n",
              "      <td>4300.0</td>\n",
              "      <td>213.0</td>\n",
              "      <td>325</td>\n",
              "      <td>5.162097</td>\n",
              "      <td>5.519018</td>\n",
              "      <td>0</td>\n",
              "      <td>0</td>\n",
              "      <td>0</td>\n",
              "      <td>0</td>\n",
              "      <td>0</td>\n",
              "      <td>0</td>\n",
              "      <td>1</td>\n",
              "    </tr>\n",
              "    <tr>\n",
              "      <th>2</th>\n",
              "      <td>16.69</td>\n",
              "      <td>1</td>\n",
              "      <td>1</td>\n",
              "      <td>13.0</td>\n",
              "      <td>8.0</td>\n",
              "      <td>128.0</td>\n",
              "      <td>8.0</td>\n",
              "      <td>4200.0</td>\n",
              "      <td>213.0</td>\n",
              "      <td>162</td>\n",
              "      <td>5.111084</td>\n",
              "      <td>5.884631</td>\n",
              "      <td>0</td>\n",
              "      <td>0</td>\n",
              "      <td>0</td>\n",
              "      <td>0</td>\n",
              "      <td>0</td>\n",
              "      <td>0</td>\n",
              "      <td>1</td>\n",
              "    </tr>\n",
              "    <tr>\n",
              "      <th>3</th>\n",
              "      <td>15.32</td>\n",
              "      <td>1</td>\n",
              "      <td>0</td>\n",
              "      <td>13.0</td>\n",
              "      <td>8.0</td>\n",
              "      <td>64.0</td>\n",
              "      <td>3.0</td>\n",
              "      <td>5000.0</td>\n",
              "      <td>185.0</td>\n",
              "      <td>293</td>\n",
              "      <td>4.389995</td>\n",
              "      <td>4.947837</td>\n",
              "      <td>0</td>\n",
              "      <td>0</td>\n",
              "      <td>0</td>\n",
              "      <td>0</td>\n",
              "      <td>0</td>\n",
              "      <td>0</td>\n",
              "      <td>1</td>\n",
              "    </tr>\n",
              "    <tr>\n",
              "      <th>4</th>\n",
              "      <td>16.23</td>\n",
              "      <td>1</td>\n",
              "      <td>0</td>\n",
              "      <td>13.0</td>\n",
              "      <td>8.0</td>\n",
              "      <td>64.0</td>\n",
              "      <td>4.0</td>\n",
              "      <td>4000.0</td>\n",
              "      <td>176.0</td>\n",
              "      <td>223</td>\n",
              "      <td>4.413889</td>\n",
              "      <td>5.060694</td>\n",
              "      <td>0</td>\n",
              "      <td>0</td>\n",
              "      <td>0</td>\n",
              "      <td>0</td>\n",
              "      <td>0</td>\n",
              "      <td>0</td>\n",
              "      <td>1</td>\n",
              "    </tr>\n",
              "  </tbody>\n",
              "</table>\n",
              "</div>\n",
              "      <button class=\"colab-df-convert\" onclick=\"convertToInteractive('df-463662c2-f6fa-468d-b24a-00451101cb26')\"\n",
              "              title=\"Convert this dataframe to an interactive table.\"\n",
              "              style=\"display:none;\">\n",
              "        \n",
              "  <svg xmlns=\"http://www.w3.org/2000/svg\" height=\"24px\"viewBox=\"0 0 24 24\"\n",
              "       width=\"24px\">\n",
              "    <path d=\"M0 0h24v24H0V0z\" fill=\"none\"/>\n",
              "    <path d=\"M18.56 5.44l.94 2.06.94-2.06 2.06-.94-2.06-.94-.94-2.06-.94 2.06-2.06.94zm-11 1L8.5 8.5l.94-2.06 2.06-.94-2.06-.94L8.5 2.5l-.94 2.06-2.06.94zm10 10l.94 2.06.94-2.06 2.06-.94-2.06-.94-.94-2.06-.94 2.06-2.06.94z\"/><path d=\"M17.41 7.96l-1.37-1.37c-.4-.4-.92-.59-1.43-.59-.52 0-1.04.2-1.43.59L10.3 9.45l-7.72 7.72c-.78.78-.78 2.05 0 2.83L4 21.41c.39.39.9.59 1.41.59.51 0 1.02-.2 1.41-.59l7.78-7.78 2.81-2.81c.8-.78.8-2.07 0-2.86zM5.41 20L4 18.59l7.72-7.72 1.47 1.35L5.41 20z\"/>\n",
              "  </svg>\n",
              "      </button>\n",
              "      \n",
              "  <style>\n",
              "    .colab-df-container {\n",
              "      display:flex;\n",
              "      flex-wrap:wrap;\n",
              "      gap: 12px;\n",
              "    }\n",
              "\n",
              "    .colab-df-convert {\n",
              "      background-color: #E8F0FE;\n",
              "      border: none;\n",
              "      border-radius: 50%;\n",
              "      cursor: pointer;\n",
              "      display: none;\n",
              "      fill: #1967D2;\n",
              "      height: 32px;\n",
              "      padding: 0 0 0 0;\n",
              "      width: 32px;\n",
              "    }\n",
              "\n",
              "    .colab-df-convert:hover {\n",
              "      background-color: #E2EBFA;\n",
              "      box-shadow: 0px 1px 2px rgba(60, 64, 67, 0.3), 0px 1px 3px 1px rgba(60, 64, 67, 0.15);\n",
              "      fill: #174EA6;\n",
              "    }\n",
              "\n",
              "    [theme=dark] .colab-df-convert {\n",
              "      background-color: #3B4455;\n",
              "      fill: #D2E3FC;\n",
              "    }\n",
              "\n",
              "    [theme=dark] .colab-df-convert:hover {\n",
              "      background-color: #434B5C;\n",
              "      box-shadow: 0px 1px 3px 1px rgba(0, 0, 0, 0.15);\n",
              "      filter: drop-shadow(0px 1px 2px rgba(0, 0, 0, 0.3));\n",
              "      fill: #FFFFFF;\n",
              "    }\n",
              "  </style>\n",
              "\n",
              "      <script>\n",
              "        const buttonEl =\n",
              "          document.querySelector('#df-463662c2-f6fa-468d-b24a-00451101cb26 button.colab-df-convert');\n",
              "        buttonEl.style.display =\n",
              "          google.colab.kernel.accessAllowed ? 'block' : 'none';\n",
              "\n",
              "        async function convertToInteractive(key) {\n",
              "          const element = document.querySelector('#df-463662c2-f6fa-468d-b24a-00451101cb26');\n",
              "          const dataTable =\n",
              "            await google.colab.kernel.invokeFunction('convertToInteractive',\n",
              "                                                     [key], {});\n",
              "          if (!dataTable) return;\n",
              "\n",
              "          const docLinkHtml = 'Like what you see? Visit the ' +\n",
              "            '<a target=\"_blank\" href=https://colab.research.google.com/notebooks/data_table.ipynb>data table notebook</a>'\n",
              "            + ' to learn more about interactive tables.';\n",
              "          element.innerHTML = '';\n",
              "          dataTable['output_type'] = 'display_data';\n",
              "          await google.colab.output.renderOutput(dataTable, element);\n",
              "          const docLink = document.createElement('div');\n",
              "          docLink.innerHTML = docLinkHtml;\n",
              "          element.appendChild(docLink);\n",
              "        }\n",
              "      </script>\n",
              "    </div>\n",
              "  </div>\n",
              "  "
            ]
          },
          "metadata": {},
          "execution_count": 93
        }
      ],
      "source": [
        "data.head()"
      ]
    },
    {
      "cell_type": "markdown",
      "metadata": {
        "id": "fGlDgl6m4Q5_"
      },
      "source": [
        "# Train and Test Ayrımı"
      ]
    },
    {
      "cell_type": "code",
      "execution_count": null,
      "metadata": {
        "id": "s8x6yu2L4Q5_"
      },
      "outputs": [],
      "source": [
        "y = data['normalized_used_price']\n",
        "X = data.drop(['normalized_used_price'], axis=1)"
      ]
    },
    {
      "cell_type": "code",
      "execution_count": null,
      "metadata": {
        "id": "IjaVghgX4Q5_"
      },
      "outputs": [],
      "source": [
        "X_train, X_test, y_train, y_test = train_test_split(X, y, test_size=0.3, random_state=0)"
      ]
    },
    {
      "cell_type": "markdown",
      "metadata": {
        "id": "IA47r22-4Q6A"
      },
      "source": [
        "# Özelliklerin daha sade bir şekil alması ve aykırı değerlerden etkilenmemek için standart Scaler yapıldı."
      ]
    },
    {
      "cell_type": "code",
      "execution_count": null,
      "metadata": {
        "id": "tLpo1ymb4Q6A"
      },
      "outputs": [],
      "source": [
        "sc = StandardScaler()\n",
        "X_train = sc.fit_transform(X_train)\n",
        "X_test = sc.transform(X_test)"
      ]
    },
    {
      "cell_type": "markdown",
      "source": [
        "## Performans Metrikleri\n",
        "![image.png](data:image/png;base64,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)\n",
        "\n",
        "![image.png](data:image/png;base64,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)\n",
        "\n",
        "\n",
        "![image.png](data:image/png;base64,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)\n",
        "\n",
        "![image.png](data:image/png;base64,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)"
      ],
      "metadata": {
        "id": "o6tfW1HwrXmU"
      }
    },
    {
      "cell_type": "markdown",
      "metadata": {
        "id": "uVpzhbOm4Q6A"
      },
      "source": [
        "# Linear Regression Model"
      ]
    },
    {
      "cell_type": "code",
      "execution_count": null,
      "metadata": {
        "colab": {
          "base_uri": "https://localhost:8080/"
        },
        "id": "qjF1534Q4Q6A",
        "outputId": "d2848ec9-3523-4b5a-af43-ed1b179d1ade"
      },
      "outputs": [
        {
          "output_type": "stream",
          "name": "stdout",
          "text": [
            "MSE :  0.04900523947064604\n",
            "MAE:  0.176084506429108\n",
            "RMSE:  0.22137127065327614\n",
            "R2 Score :  0.8029976480068457\n"
          ]
        }
      ],
      "source": [
        "linear_model = LinearRegression()\n",
        "linear_model.fit(X_train,y_train)\n",
        "y_pred = linear_model.predict(X_test)\n",
        "print(\"MSE : \",mean_squared_error(y_test,y_pred))\n",
        "print(\"MAE: \", mean_absolute_error(y_test,y_pred))\n",
        "print(\"RMSE: \", np.sqrt(mean_squared_error(y_test, y_pred)))\n",
        "print(\"R2 Score : \",r2_score(y_test,y_pred))"
      ]
    },
    {
      "cell_type": "markdown",
      "metadata": {
        "id": "4AVSWHVI4Q6B"
      },
      "source": [
        "# SVM Regressor"
      ]
    },
    {
      "cell_type": "code",
      "execution_count": null,
      "metadata": {
        "colab": {
          "base_uri": "https://localhost:8080/"
        },
        "id": "jDd_j-KU4Q6C",
        "outputId": "6be47071-9676-4e14-b7bd-5c0da995301f"
      },
      "outputs": [
        {
          "output_type": "stream",
          "name": "stdout",
          "text": [
            "MSE :  0.050413295843044326\n",
            "MAE:  0.1749497254114277\n",
            "RMSE:  0.2245290534497581\n",
            "R2 Score :  0.7973372243440338\n"
          ]
        }
      ],
      "source": [
        "svmreg_model = SVR()\n",
        "svmreg_model.fit(X_train,y_train)\n",
        "y_pred = svmreg_model.predict(X_test)\n",
        "print(\"MSE : \",mean_squared_error(y_test,y_pred))\n",
        "print(\"MAE: \", mean_absolute_error(y_test,y_pred))\n",
        "print(\"RMSE: \", np.sqrt(mean_squared_error(y_test, y_pred)))\n",
        "print(\"R2 Score : \",r2_score(y_test,y_pred))"
      ]
    },
    {
      "cell_type": "markdown",
      "metadata": {
        "id": "SXzrGvaL4Q6C"
      },
      "source": [
        "# DecisionTree Regressor"
      ]
    },
    {
      "cell_type": "code",
      "execution_count": null,
      "metadata": {
        "colab": {
          "base_uri": "https://localhost:8080/"
        },
        "id": "KRwpp4Sr4Q6C",
        "outputId": "7ab68006-dd85-41a6-a9ad-0ce599a54b59"
      },
      "outputs": [
        {
          "output_type": "stream",
          "name": "stdout",
          "text": [
            "MSE :  0.08946421100007855\n",
            "MAE:  0.2319442498744076\n",
            "RMSE:  0.29910568533559934\n",
            "R2 Score :  0.6403515179885122\n"
          ]
        }
      ],
      "source": [
        "dtree_model = DecisionTreeRegressor()\n",
        "dtree_model.fit(X_train,y_train)\n",
        "y_pred = dtree_model.predict(X_test)\n",
        "print(\"MSE : \",mean_squared_error(y_test,y_pred))\n",
        "print(\"MAE: \", mean_absolute_error(y_test,y_pred))\n",
        "print(\"RMSE: \", np.sqrt(mean_squared_error(y_test, y_pred)))\n",
        "print(\"R2 Score : \",r2_score(y_test,y_pred))"
      ]
    },
    {
      "cell_type": "markdown",
      "metadata": {
        "id": "dtbM9NUw4Q6C"
      },
      "source": [
        "# RandomForest Regressor"
      ]
    },
    {
      "cell_type": "code",
      "execution_count": null,
      "metadata": {
        "colab": {
          "base_uri": "https://localhost:8080/"
        },
        "id": "f_u8paKZ4Q6C",
        "outputId": "250d2ece-80ba-4daa-aadc-de779afa987b"
      },
      "outputs": [
        {
          "output_type": "stream",
          "name": "stdout",
          "text": [
            "MSE :  0.05051628361557037\n",
            "MAE:  0.18023606523287913\n",
            "RMSE:  0.22475827819141694\n",
            "R2 Score :  0.796923210788885\n"
          ]
        }
      ],
      "source": [
        "rfr_model = RandomForestRegressor()\n",
        "rfr_model.fit(X_train,y_train)\n",
        "y_pred = rfr_model.predict(X_test)\n",
        "print(\"MSE : \",mean_squared_error(y_test,y_pred))\n",
        "print(\"MAE: \", mean_absolute_error(y_test,y_pred))\n",
        "print(\"RMSE: \", np.sqrt(mean_squared_error(y_test, y_pred)))\n",
        "print(\"R2 Score : \",r2_score(y_test,y_pred))"
      ]
    },
    {
      "cell_type": "markdown",
      "source": [
        "**Sonuç:**\n",
        "\n",
        "Sonuç olarak en iyi performansa sahip yöntem Linear regression yöntemi olmuştur."
      ],
      "metadata": {
        "id": "KT3UVBPrt7NF"
      }
    },
    {
      "cell_type": "markdown",
      "source": [
        "## Pickle kütüphanesi kullanılarak elde ettiğimiz modeli daha sonra kullanabilmek için indiriyoruz."
      ],
      "metadata": {
        "id": "0Hiqm3JM0UeA"
      }
    },
    {
      "cell_type": "code",
      "source": [
        "import pickle\n",
        "pickle.dump(linear_model, open(\"phone_price_prediction_model.pkl\", \"wb\"))\n",
        "print(\"Model başarılı şekilde oluşturuldu\")"
      ],
      "metadata": {
        "colab": {
          "base_uri": "https://localhost:8080/"
        },
        "id": "QkOkJ1BouKiu",
        "outputId": "f4770450-7a17-49a9-b739-de1c74b93e7a"
      },
      "execution_count": null,
      "outputs": [
        {
          "output_type": "stream",
          "name": "stdout",
          "text": [
            "Model başarılı şekilde oluşturuldu\n"
          ]
        }
      ]
    }
  ],
  "metadata": {
    "kernelspec": {
      "display_name": "Python 3 (ipykernel)",
      "language": "python",
      "name": "python3"
    },
    "language_info": {
      "codemirror_mode": {
        "name": "ipython",
        "version": 3
      },
      "file_extension": ".py",
      "mimetype": "text/x-python",
      "name": "python",
      "nbconvert_exporter": "python",
      "pygments_lexer": "ipython3",
      "version": "3.9.5"
    },
    "vscode": {
      "interpreter": {
        "hash": "11938c6bc6919ae2720b4d5011047913343b08a43b18698fd82dedb0d4417594"
      }
    },
    "colab": {
      "provenance": []
    }
  },
  "nbformat": 4,
  "nbformat_minor": 0
}